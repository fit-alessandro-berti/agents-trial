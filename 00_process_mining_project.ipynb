{
 "cells": [
  {
   "cell_type": "markdown",
   "metadata": {},
   "source": [
    "## Introduction\n",
    "\n",
    "Finding specialists in the realm of process mining can often feel like searching for a needle in a haystack, especially when the skill levels required can range from deep technical knowledge to, well, a good appreciation for beer. That's right, process consultants in process mining need to bring together a diverse set of skills that can span from SQL wizardry to perhaps even some social skills over a pint. This blend of talents is crucial to successfully navigating the multifaceted landscape of process mining.\n",
    "\n",
    "\n",
    "![Process Analyst - Process Mining][processAnalystImage]\n",
    "\n",
    "[processAnalystImage]: img/Positions.png"
   ]
  },
  {
   "cell_type": "markdown",
   "metadata": {},
   "source": [
    "Based on this article [Process Analyst - Process Mining](https://fluxicon.com/blog/2017/02/skills-and-roles-needed-for-your-process-mining-project/)\n",
    "we tried to identify some of the key skills and roles needed for a successful process mining project.\n",
    "![Process Analyst - Process Mining](img/Skills-and-Roles_Process-Mining.png)\n",
    "\n",
    "### Human-in-the-Loop Architecture with CrewAI"
   ]
  },
  {
   "cell_type": "code",
   "execution_count": 1,
   "metadata": {},
   "outputs": [
    {
     "name": "stdout",
     "output_type": "stream",
     "text": [
      "/Users/urszulajessen/anaconda3/envs/agents/bin/python\n"
     ]
    }
   ],
   "source": [
    "import sys\n",
    "print(sys.executable)"
   ]
  },
  {
   "cell_type": "code",
   "execution_count": 2,
   "metadata": {},
   "outputs": [],
   "source": [
    "from dotenv import load_dotenv\n",
    "\n",
    "_ = load_dotenv()\n",
    "\n",
    "from langgraph.graph import StateGraph, END\n",
    "from typing import TypedDict, Annotated\n",
    "import operator\n",
    "from langchain_core.messages import AnyMessage, SystemMessage, HumanMessage, ToolMessage\n",
    "from langchain_openai import ChatOpenAI\n",
    "from langchain_community.tools.tavily_search import TavilySearchResults\n",
    "from langgraph.checkpoint.sqlite import SqliteSaver\n",
    "\n",
    "memory = SqliteSaver.from_conn_string(\":memory:\")"
   ]
  },
  {
   "cell_type": "code",
   "execution_count": 3,
   "metadata": {},
   "outputs": [],
   "source": [
    "from uuid import uuid4\n",
    "from langchain_core.messages import AnyMessage, SystemMessage, HumanMessage, AIMessage\n",
    "\n",
    "\"\"\"\n",
    "In previous examples we've annotated the `messages` state key\n",
    "with the default `operator.add` or `+` reducer, which always\n",
    "appends new messages to the end of the existing messages array.\n",
    "\n",
    "Now, to support replacing existing messages, we annotate the\n",
    "`messages` key with a customer reducer function, which replaces\n",
    "messages with the same `id`, and appends them otherwise.\n",
    "\"\"\"\n",
    "def reduce_messages(left: list[AnyMessage], right: list[AnyMessage]) -> list[AnyMessage]:\n",
    "    # assign ids to messages that don't have them\n",
    "    for message in right:\n",
    "        if not message.id:\n",
    "            message.id = str(uuid4())\n",
    "    # merge the new messages with the existing messages\n",
    "    merged = left.copy()\n",
    "    for message in right:\n",
    "        for i, existing in enumerate(merged):\n",
    "            # replace any existing messages with the same id\n",
    "            if existing.id == message.id:\n",
    "                merged[i] = message\n",
    "                break\n",
    "        else:\n",
    "            # append any new messages to the end\n",
    "            merged.append(message)\n",
    "    return merged\n",
    "\n",
    "class AgentState(TypedDict):\n",
    "    messages: Annotated[list[AnyMessage], reduce_messages]"
   ]
  },
  {
   "cell_type": "markdown",
   "metadata": {},
   "source": [
    "\n",
    "#### Part 1: Overview of Roles and Responsibilities\n",
    "\n",
    "**IT Administrator**\n",
    "- **Responsibilities**: Extracting data, clarifying data-related questions, providing data dictionaries.\n",
    "- **Automation Potential**: Data extraction and initial data clarification can be automated. AI can interact with IT systems to extract necessary data and answer basic data queries using predefined data dictionaries.\n",
    "\n",
    "**Data Specialist**\n",
    "- **Responsibilities**: Combining data sources, re-formatting data, data transformations using SQL, ETL tools, Python, or R.\n",
    "- **Automation Potential**: AI can perform data merging, cleaning, and transformation tasks. Advanced AI can use scripting languages to automate complex data processing.\n",
    "\n",
    "**Data / Process Analyst**\n",
    "- **Responsibilities**: Analyzing data, ensuring data quality, fixing data quality issues.\n",
    "- **Automation Potential**: AI can conduct data analysis, identify data quality issues, and suggest or even implement fixes. Machine learning models can be trained to recognize and correct common data problems.\n",
    "\n",
    "**Business Analyst**\n",
    "- **Responsibilities**: Suggesting and evaluating process improvement alternatives.\n",
    "- **Automation Potential**: AI can analyze business processes and suggest improvements. However, human expertise is still crucial for evaluating and implementing changes from a business perspective.\n",
    "\n",
    "**Project and Change Management**\n",
    "- **Responsibilities**: Scoping projects, defining milestones, managing progress, implementing changes.\n",
    "- **Automation Potential**: AI can assist in project management by tracking progress, sending reminders, and suggesting adjustments to timelines. Change management, involving human interaction and persuasion, remains less automatable.\n",
    "\n",
    "**Process Owner**\n",
    "- **Responsibilities**: Sponsoring the project, supporting and providing resources.\n",
    "- **Automation Potential**: AI can assist in identifying potential sponsors and managing communications, but the role of a sponsor is inherently human-centric.\n",
    "\n",
    "**Domain Expert**\n",
    "- **Responsibilities**: Defining analysis questions, performing data validation, reviewing findings.\n",
    "- **Automation Potential**: AI can assist in defining analysis questions based on historical data and trends. Data validation and reviewing findings can be supported by AI, but domain expertise remains crucial.\n",
    "\n",
    "**Privacy Officer**\n",
    "- **Responsibilities**: Ensuring privacy and ethics guidelines are followed.\n",
    "- **Automation Potential**: AI can monitor data usage and compliance with privacy regulations, flagging potential issues for human review.\n",
    "\n",
    "\n"
   ]
  },
  {
   "cell_type": "markdown",
   "metadata": {},
   "source": [
    "#### Part 2: Implementing Agentic Workflows with CrewAI\n",
    "\n",
    "To build an agentic workflow using CrewAI, follow these steps:\n",
    "\n",
    "1. **Define the Scope**: Identify the tasks and roles that can be automated. Focus on repetitive, data-intensive tasks for initial automation.\n",
    "2. **Set Up AI Agents**: Configure AI agents to handle data extraction, cleaning, and initial analysis. Use CrewAI's capabilities to automate these processes.\n",
    "3. **Integrate Human Expertise**: Combine AI automation with human oversight. Use AI to handle data and initial insights, and rely on human experts for final decision-making and implementation.\n",
    "4. **Monitor and Improve**: Continuously monitor the performance of AI agents and make adjustments as needed. Gather feedback from human team members to improve the workflow.\n",
    "\n"
   ]
  },
  {
   "cell_type": "markdown",
   "metadata": {},
   "source": [
    "### Visual Representation\n",
    "\n",
    "Here’s how the roles can be mapped in an agentic workflow:\n",
    "\n",
    "**Automated Roles (AI Agents)**:\n",
    "- IT Administrator: Data extraction and basic queries\n",
    "- Data Specialist: Data merging and transformation\n",
    "- Data / Process Analyst: Data analysis and quality checks\n",
    "\n",
    "**Human-Centric Roles**:\n",
    "- Business Analyst: Process improvement evaluation\n",
    "- Project and Change Management: Overall project coordination\n",
    "- Process Owner: Project sponsorship\n",
    "- Domain Expert: Defining analysis questions and reviewing findings\n",
    "- Privacy Officer: Ensuring compliance with privacy guidelines\n",
    "\n",
    "Integrating CrewAI into your process mining projects can significantly enhance productivity and accuracy, allowing your team to focus on high-value tasks that require human intuition and expertise. This human-in-the-loop architecture ensures that AI handles the bulk of data-intensive tasks, while human experts provide the critical oversight and strategic decision-making necessary for successful project outcomes."
   ]
  }
 ],
 "metadata": {
  "kernelspec": {
   "display_name": "agents",
   "language": "python",
   "name": "python3"
  },
  "language_info": {
   "codemirror_mode": {
    "name": "ipython",
    "version": 3
   },
   "file_extension": ".py",
   "mimetype": "text/x-python",
   "name": "python",
   "nbconvert_exporter": "python",
   "pygments_lexer": "ipython3",
   "version": "3.11.9"
  }
 },
 "nbformat": 4,
 "nbformat_minor": 2
}
