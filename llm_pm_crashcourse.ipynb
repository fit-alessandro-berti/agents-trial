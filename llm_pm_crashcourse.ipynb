{
 "cells": [
  {
   "cell_type": "code",
   "execution_count": null,
   "id": "c81c2ca3-4600-470c-93d1-8193db6d0794",
   "metadata": {},
   "outputs": [],
   "source": [
    "# needed: Python 3.10-3.11\n",
    "\n",
    "# requirements:\n",
    "## pm4py>=2.7.11.13\n",
    "## duckdb\n",
    "## openai\n",
    "## crewai\n",
    "## crewai[tools]\n",
    "## langchain\n",
    "## langchain-openai\n",
    "## requests\n",
    "\n",
    "# you can install them with the command: pip install -U pm4py>=2.7.11.13 duckdb openai crewai crewai[tools] langchain langchain-openai requests\n",
    "\n",
    "# in Colab, you can uncomment the following line:\n",
    "# !pip install pm4py>=2.7.11.13 duckdb openai crewai crewai[tools] langchain langchain-openai requests"
   ]
  },
  {
   "cell_type": "code",
   "execution_count": null,
   "id": "81306591-efc8-4414-a5ac-69f0b1556173",
   "metadata": {},
   "outputs": [],
   "source": [
    "import pm4py\n",
    "import duckdb\n",
    "import pickle"
   ]
  },
  {
   "cell_type": "code",
   "execution_count": null,
   "id": "74e9b912-7078-42ce-9751-aba51d085051",
   "metadata": {},
   "outputs": [],
   "source": [
    "# FIRST IMPLEMENTATION PARADIGM - DIRECT PROVISION OF INSIGHTS\n",
    "# The LLM is provided with a textual description of the event log object, and responds to the inquiry based on that.\n",
    "\n",
    "# for instance, let's get the textual abstraction of the DFG of an event log object\n",
    "log = pm4py.read_xes(\"renting_log_high.xes.gz\")\n",
    "dfg_abstraction = pm4py.llm.abstract_dfg(log)\n",
    "print(dfg_abstraction)"
   ]
  },
  {
   "cell_type": "code",
   "execution_count": null,
   "id": "5b271cb5-5703-4b74-a924-8eb3bec8429d",
   "metadata": {},
   "outputs": [],
   "source": [
    "# create a prompt\n",
    "prompt = dfg_abstraction + \"\\n\\nWhat are the main points for potential unfairness?\"\n",
    "\n",
    "# sends the prompt to an LLM\n",
    "#base_url = \"https://api.deepinfra.com/v1/openai\"\n",
    "base_url = \"https://api.openai.com/v1\"\n",
    "\n",
    "api_key = open(\"api_key.txt\", \"r\").read().strip()\n",
    "\n",
    "headers = {\n",
    "    \"Content-Type\": \"application/json\",\n",
    "    \"Authorization\": f\"Bearer {api_key}\"\n",
    "}\n",
    "\n",
    "payload = {\n",
    "    \"model\": \"gpt-4o-mini\",\n",
    "    \"messages\": [\n",
    "        {\"role\": \"user\", \"content\": prompt}\n",
    "    ]\n",
    "}\n",
    "\n",
    "import requests\n",
    "r = requests.post(\"https://api.openai.com/v1/chat/completions\", headers=headers, json=payload)\n",
    "content = r.json()[\"choices\"][0][\"message\"][\"content\"]\n",
    "\n",
    "print(content)"
   ]
  },
  {
   "cell_type": "code",
   "execution_count": null,
   "id": "f9c7bbab-3cb7-47c9-ab5b-fd2230ef7886",
   "metadata": {},
   "outputs": [],
   "source": [
    "# SECOND IMPLEMENTATION PARADIGM - CODE GENERATION\n",
    "\n",
    "log = pm4py.read_xes(\"renting_log_high.xes.gz\")\n",
    "\n",
    "prompt = \"Could you generate a DuckDB SQL statement to compute the number of cases of the event log stored in the 'log' variable? The case ID column is 'case:concept:name', the activity column is 'concept:name', the timestamp column is 'time:timestamp'.\"\n",
    "\n",
    "# sends the prompt to an LLM\n",
    "#base_url = \"https://api.deepinfra.com/v1/openai\"\n",
    "base_url = \"https://api.openai.com/v1\"\n",
    "\n",
    "api_key = open(\"api_key.txt\", \"r\").read().strip()\n",
    "\n",
    "headers = {\n",
    "    \"Content-Type\": \"application/json\",\n",
    "    \"Authorization\": f\"Bearer {api_key}\"\n",
    "}\n",
    "\n",
    "payload = {\n",
    "    \"model\": \"gpt-4o-mini\",\n",
    "    \"messages\": [\n",
    "        {\"role\": \"user\", \"content\": prompt}\n",
    "    ]\n",
    "}\n",
    "\n",
    "import requests\n",
    "r = requests.post(\"https://api.openai.com/v1/chat/completions\", headers=headers, json=payload)\n",
    "content = r.json()[\"choices\"][0][\"message\"][\"content\"]\n",
    "\n",
    "print(content)"
   ]
  },
  {
   "cell_type": "code",
   "execution_count": null,
   "id": "0ac50d00-8448-4ccc-97b1-1f9731621f3e",
   "metadata": {},
   "outputs": [],
   "source": [
    "# use DuckDB to execute the SQL query on the Pandas dataframe\n",
    "import duckdb\n",
    "\n",
    "res = duckdb.sql(content.split(\"```sql\")[1].split(\"```\")[0]).to_df()\n",
    "print(res)"
   ]
  },
  {
   "cell_type": "code",
   "execution_count": null,
   "id": "9b70b452-0106-433f-9b44-8d580f1b0be8",
   "metadata": {},
   "outputs": [],
   "source": []
  }
 ],
 "metadata": {
  "kernelspec": {
   "display_name": "Python 3 (ipykernel)",
   "language": "python",
   "name": "python3"
  },
  "language_info": {
   "codemirror_mode": {
    "name": "ipython",
    "version": 3
   },
   "file_extension": ".py",
   "mimetype": "text/x-python",
   "name": "python",
   "nbconvert_exporter": "python",
   "pygments_lexer": "ipython3",
   "version": "3.12.3"
  }
 },
 "nbformat": 4,
 "nbformat_minor": 5
}
